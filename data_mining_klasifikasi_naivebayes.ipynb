{
  "nbformat": 4,
  "nbformat_minor": 0,
  "metadata": {
    "colab": {
      "name": "data_mining_klasifikasi_naivebayes.ipynb",
      "provenance": [],
      "authorship_tag": "ABX9TyPcGE4rE0mVtkN/05mFB+y0",
      "include_colab_link": true
    },
    "kernelspec": {
      "name": "python3",
      "display_name": "Python 3"
    },
    "language_info": {
      "name": "python"
    }
  },
  "cells": [
    {
      "cell_type": "markdown",
      "metadata": {
        "id": "view-in-github",
        "colab_type": "text"
      },
      "source": [
        "<a href=\"https://colab.research.google.com/github/amirmaruf030/DataMining/blob/main/data_mining_klasifikasi_naivebayes.ipynb\" target=\"_parent\"><img src=\"https://colab.research.google.com/assets/colab-badge.svg\" alt=\"Open In Colab\"/></a>"
      ]
    },
    {
      "cell_type": "code",
      "metadata": {
        "id": "0I81ZHYxaAqQ"
      },
      "source": [
        "import numpy as np\n",
        "import matplotlib.pyplot as plt\n",
        "import pandas as pd"
      ],
      "execution_count": 1,
      "outputs": []
    },
    {
      "cell_type": "code",
      "metadata": {
        "id": "OD4b9UOFaRdd"
      },
      "source": [
        "data_set = pd.read_csv('Data Pengunjung.csv')\n",
        "x = data_set.iloc[:,[1,2]].values\n",
        "y = data_set.iloc[:,-1].values"
      ],
      "execution_count": 2,
      "outputs": []
    },
    {
      "cell_type": "code",
      "metadata": {
        "colab": {
          "base_uri": "https://localhost:8080/"
        },
        "id": "eYOVdM0IadZd",
        "outputId": "1962ead4-d2c9-4820-ab9a-f9f83b7baede"
      },
      "source": [
        "print(x)"
      ],
      "execution_count": 3,
      "outputs": [
        {
          "output_type": "stream",
          "text": [
            "[[22  1]\n",
            " [21  6]\n",
            " [19  6]\n",
            " [16  6]\n",
            " [19  4]\n",
            " [20  7]\n",
            " [16  5]\n",
            " [15  7]\n",
            " [19  5]\n",
            " [23  5]\n",
            " [22  2]\n",
            " [18  3]\n",
            " [21  5]\n",
            " [16  7]\n",
            " [25  4]\n",
            " [15  6]\n",
            " [25  1]\n",
            " [20  7]\n",
            " [18  6]\n",
            " [15  6]\n",
            " [16  4]\n",
            " [16  3]\n",
            " [24  3]\n",
            " [19  4]\n",
            " [23  5]\n",
            " [15  2]\n",
            " [25  3]\n",
            " [17  2]\n",
            " [17  3]\n",
            " [18  1]\n",
            " [24  5]\n",
            " [18  3]\n",
            " [17  5]\n",
            " [25  7]\n",
            " [22  3]\n",
            " [15  6]\n",
            " [25  4]\n",
            " [15  3]\n",
            " [23  1]\n",
            " [15  4]\n",
            " [23  2]\n",
            " [22  3]\n",
            " [21  1]\n",
            " [21  4]\n",
            " [20  4]\n",
            " [19  1]\n",
            " [15  1]\n",
            " [23  6]\n",
            " [20  1]\n",
            " [23  7]\n",
            " [19  1]\n",
            " [22  4]\n",
            " [19  2]\n",
            " [25  1]\n",
            " [16  2]\n",
            " [23  7]\n",
            " [23  3]\n",
            " [23  5]\n",
            " [20  7]\n",
            " [18  4]\n",
            " [24  6]\n",
            " [19  1]\n",
            " [21  5]\n",
            " [15  5]\n",
            " [25  5]\n",
            " [20  1]\n",
            " [16  2]\n",
            " [22  7]\n",
            " [25  2]\n",
            " [24  7]\n",
            " [16  2]\n",
            " [22  6]\n",
            " [24  2]\n",
            " [15  2]\n",
            " [24  1]\n",
            " [22  6]\n",
            " [17  4]\n",
            " [15  6]\n",
            " [18  1]\n",
            " [19  5]\n",
            " [24  5]\n",
            " [21  2]\n",
            " [23  7]\n",
            " [22  5]\n",
            " [19  5]\n",
            " [17  4]\n",
            " [25  2]\n",
            " [16  3]\n",
            " [22  6]\n",
            " [22  4]\n",
            " [22  3]\n",
            " [21  4]\n",
            " [15  5]\n",
            " [16  3]\n",
            " [21  6]\n",
            " [23  4]\n",
            " [16  7]\n",
            " [22  7]\n",
            " [21  4]\n",
            " [25  4]]\n"
          ],
          "name": "stdout"
        }
      ]
    },
    {
      "cell_type": "code",
      "metadata": {
        "colab": {
          "base_uri": "https://localhost:8080/"
        },
        "id": "l952dZbOafjV",
        "outputId": "ce920172-a8ae-40fc-b5ea-6505fe7d7920"
      },
      "source": [
        "print(y)"
      ],
      "execution_count": 4,
      "outputs": [
        {
          "output_type": "stream",
          "text": [
            "[1 0 0 0 1 0 1 0 0 0 0 1 1 0 1 1 0 0 1 0 0 1 1 1 0 1 1 0 0 0 0 1 0 1 1 0 0\n",
            " 1 1 1 1 0 0 0 1 0 0 0 0 1 0 1 0 1 1 1 0 1 1 1 0 0 1 0 1 1 1 1 0 0 0 1 0 1\n",
            " 0 1 1 0 1 0 0 1 1 1 1 1 1 0 1 1 0 0 0 0 1 0 1 1 0 1]\n"
          ],
          "name": "stdout"
        }
      ]
    },
    {
      "cell_type": "code",
      "metadata": {
        "id": "SS9rLitUdCi3"
      },
      "source": [
        "from sklearn.model_selection import  train_test_split\n",
        "x_train, x_test, y_train, y_test = train_test_split(x,y,test_size=0.25,random_state=0)"
      ],
      "execution_count": 5,
      "outputs": []
    },
    {
      "cell_type": "code",
      "metadata": {
        "colab": {
          "base_uri": "https://localhost:8080/"
        },
        "id": "BWaKNunQdFBF",
        "outputId": "656430f4-a5b3-40ac-8889-c3d315a08bf9"
      },
      "source": [
        "print(x_train)"
      ],
      "execution_count": 6,
      "outputs": [
        {
          "output_type": "stream",
          "text": [
            "[[20  1]\n",
            " [16  5]\n",
            " [25  4]\n",
            " [23  7]\n",
            " [17  4]\n",
            " [24  6]\n",
            " [24  5]\n",
            " [22  3]\n",
            " [25  2]\n",
            " [22  4]\n",
            " [17  2]\n",
            " [18  6]\n",
            " [23  3]\n",
            " [15  5]\n",
            " [24  1]\n",
            " [21  6]\n",
            " [19  1]\n",
            " [21  1]\n",
            " [22  3]\n",
            " [19  4]\n",
            " [15  6]\n",
            " [20  7]\n",
            " [23  2]\n",
            " [23  1]\n",
            " [20  7]\n",
            " [21  4]\n",
            " [18  4]\n",
            " [22  1]\n",
            " [22  3]\n",
            " [17  3]\n",
            " [19  1]\n",
            " [18  3]\n",
            " [15  6]\n",
            " [19  4]\n",
            " [19  2]\n",
            " [22  2]\n",
            " [18  3]\n",
            " [16  2]\n",
            " [23  5]\n",
            " [19  5]\n",
            " [17  4]\n",
            " [17  5]\n",
            " [19  5]\n",
            " [25  4]\n",
            " [22  4]\n",
            " [15  6]\n",
            " [18  1]\n",
            " [23  7]\n",
            " [22  7]\n",
            " [21  4]\n",
            " [24  7]\n",
            " [16  4]\n",
            " [21  6]\n",
            " [24  2]\n",
            " [15  6]\n",
            " [15  2]\n",
            " [15  3]\n",
            " [21  2]\n",
            " [15  1]\n",
            " [15  4]\n",
            " [20  1]\n",
            " [20  7]\n",
            " [21  5]\n",
            " [22  6]\n",
            " [16  2]\n",
            " [16  3]\n",
            " [25  4]\n",
            " [16  3]\n",
            " [22  5]\n",
            " [23  5]\n",
            " [16  7]\n",
            " [22  7]\n",
            " [25  5]\n",
            " [23  6]\n",
            " [20  4]]\n"
          ],
          "name": "stdout"
        }
      ]
    },
    {
      "cell_type": "code",
      "metadata": {
        "colab": {
          "base_uri": "https://localhost:8080/"
        },
        "id": "Ik2YWiucdI7d",
        "outputId": "d6d746da-7c5e-47f3-d689-40d412e2bcb8"
      },
      "source": [
        "print(x_test)"
      ],
      "execution_count": 7,
      "outputs": [
        {
          "output_type": "stream",
          "text": [
            "[[25  3]\n",
            " [25  2]\n",
            " [19  6]\n",
            " [23  7]\n",
            " [22  6]\n",
            " [16  3]\n",
            " [25  1]\n",
            " [15  2]\n",
            " [16  2]\n",
            " [23  4]\n",
            " [25  1]\n",
            " [15  5]\n",
            " [18  1]\n",
            " [16  7]\n",
            " [15  7]\n",
            " [24  5]\n",
            " [24  3]\n",
            " [23  5]\n",
            " [25  7]\n",
            " [19  5]\n",
            " [21  4]\n",
            " [21  5]\n",
            " [16  6]\n",
            " [22  6]\n",
            " [19  1]]\n"
          ],
          "name": "stdout"
        }
      ]
    },
    {
      "cell_type": "code",
      "metadata": {
        "colab": {
          "base_uri": "https://localhost:8080/"
        },
        "id": "k6fMWvSjdM5l",
        "outputId": "584baed1-d293-4f0e-f130-877bbac33cc4"
      },
      "source": [
        "print(y_train)"
      ],
      "execution_count": 8,
      "outputs": [
        {
          "output_type": "stream",
          "text": [
            "[0 1 1 1 1 0 0 0 0 1 0 1 0 0 0 0 0 0 0 1 1 0 1 1 0 0 1 1 1 0 0 1 0 1 0 0 1\n",
            " 1 1 0 1 0 1 1 1 0 0 1 1 0 0 0 1 0 0 1 1 1 0 1 1 1 1 1 0 0 0 1 1 0 1 1 1 0\n",
            " 1]\n"
          ],
          "name": "stdout"
        }
      ]
    },
    {
      "cell_type": "code",
      "metadata": {
        "colab": {
          "base_uri": "https://localhost:8080/"
        },
        "id": "HEYwDSoJdQA2",
        "outputId": "afae5efc-0203-42d8-8b41-0acc8f9753e4"
      },
      "source": [
        "print(y_test)"
      ],
      "execution_count": 9,
      "outputs": [
        {
          "output_type": "stream",
          "text": [
            "[1 1 0 1 1 0 0 1 1 0 1 0 1 0 0 0 1 0 1 0 0 1 0 1 0]\n"
          ],
          "name": "stdout"
        }
      ]
    },
    {
      "cell_type": "code",
      "metadata": {
        "id": "7RicmNJYdSmF"
      },
      "source": [
        "from sklearn.preprocessing import StandardScaler\n",
        "sc = StandardScaler()\n",
        "x_train = sc.fit_transform(x_train)\n",
        "x_test = sc.transform(x_test)"
      ],
      "execution_count": 10,
      "outputs": []
    },
    {
      "cell_type": "code",
      "metadata": {
        "colab": {
          "base_uri": "https://localhost:8080/"
        },
        "id": "ccrWHKIPdVf9",
        "outputId": "40460380-a468-4e0d-c1e9-e503948343f7"
      },
      "source": [
        "print(x_train)"
      ],
      "execution_count": 11,
      "outputs": [
        {
          "output_type": "stream",
          "text": [
            "[[ 0.02978696 -1.56146539]\n",
            " [-1.24679722  0.53916069]\n",
            " [ 1.6255172   0.01400417]\n",
            " [ 0.9872251   1.58947373]\n",
            " [-0.92765118  0.01400417]\n",
            " [ 1.30637115  1.06431721]\n",
            " [ 1.30637115  0.53916069]\n",
            " [ 0.66807906 -0.51115235]\n",
            " [ 1.6255172  -1.03630887]\n",
            " [ 0.66807906  0.01400417]\n",
            " [-0.92765118 -1.03630887]\n",
            " [-0.60850513  1.06431721]\n",
            " [ 0.9872251  -0.51115235]\n",
            " [-1.56594327  0.53916069]\n",
            " [ 1.30637115 -1.56146539]\n",
            " [ 0.34893301  1.06431721]\n",
            " [-0.28935908 -1.56146539]\n",
            " [ 0.34893301 -1.56146539]\n",
            " [ 0.66807906 -0.51115235]\n",
            " [-0.28935908  0.01400417]\n",
            " [-1.56594327  1.06431721]\n",
            " [ 0.02978696  1.58947373]\n",
            " [ 0.9872251  -1.03630887]\n",
            " [ 0.9872251  -1.56146539]\n",
            " [ 0.02978696  1.58947373]\n",
            " [ 0.34893301  0.01400417]\n",
            " [-0.60850513  0.01400417]\n",
            " [ 0.66807906 -1.56146539]\n",
            " [ 0.66807906 -0.51115235]\n",
            " [-0.92765118 -0.51115235]\n",
            " [-0.28935908 -1.56146539]\n",
            " [-0.60850513 -0.51115235]\n",
            " [-1.56594327  1.06431721]\n",
            " [-0.28935908  0.01400417]\n",
            " [-0.28935908 -1.03630887]\n",
            " [ 0.66807906 -1.03630887]\n",
            " [-0.60850513 -0.51115235]\n",
            " [-1.24679722 -1.03630887]\n",
            " [ 0.9872251   0.53916069]\n",
            " [-0.28935908  0.53916069]\n",
            " [-0.92765118  0.01400417]\n",
            " [-0.92765118  0.53916069]\n",
            " [-0.28935908  0.53916069]\n",
            " [ 1.6255172   0.01400417]\n",
            " [ 0.66807906  0.01400417]\n",
            " [-1.56594327  1.06431721]\n",
            " [-0.60850513 -1.56146539]\n",
            " [ 0.9872251   1.58947373]\n",
            " [ 0.66807906  1.58947373]\n",
            " [ 0.34893301  0.01400417]\n",
            " [ 1.30637115  1.58947373]\n",
            " [-1.24679722  0.01400417]\n",
            " [ 0.34893301  1.06431721]\n",
            " [ 1.30637115 -1.03630887]\n",
            " [-1.56594327  1.06431721]\n",
            " [-1.56594327 -1.03630887]\n",
            " [-1.56594327 -0.51115235]\n",
            " [ 0.34893301 -1.03630887]\n",
            " [-1.56594327 -1.56146539]\n",
            " [-1.56594327  0.01400417]\n",
            " [ 0.02978696 -1.56146539]\n",
            " [ 0.02978696  1.58947373]\n",
            " [ 0.34893301  0.53916069]\n",
            " [ 0.66807906  1.06431721]\n",
            " [-1.24679722 -1.03630887]\n",
            " [-1.24679722 -0.51115235]\n",
            " [ 1.6255172   0.01400417]\n",
            " [-1.24679722 -0.51115235]\n",
            " [ 0.66807906  0.53916069]\n",
            " [ 0.9872251   0.53916069]\n",
            " [-1.24679722  1.58947373]\n",
            " [ 0.66807906  1.58947373]\n",
            " [ 1.6255172   0.53916069]\n",
            " [ 0.9872251   1.06431721]\n",
            " [ 0.02978696  0.01400417]]\n"
          ],
          "name": "stdout"
        }
      ]
    },
    {
      "cell_type": "code",
      "metadata": {
        "colab": {
          "base_uri": "https://localhost:8080/"
        },
        "id": "JxY7KD6qdXzd",
        "outputId": "936bec54-8752-4893-e8fa-24649719fa9c"
      },
      "source": [
        "print(x_test)"
      ],
      "execution_count": 12,
      "outputs": [
        {
          "output_type": "stream",
          "text": [
            "[[ 1.6255172  -0.51115235]\n",
            " [ 1.6255172  -1.03630887]\n",
            " [-0.28935908  1.06431721]\n",
            " [ 0.9872251   1.58947373]\n",
            " [ 0.66807906  1.06431721]\n",
            " [-1.24679722 -0.51115235]\n",
            " [ 1.6255172  -1.56146539]\n",
            " [-1.56594327 -1.03630887]\n",
            " [-1.24679722 -1.03630887]\n",
            " [ 0.9872251   0.01400417]\n",
            " [ 1.6255172  -1.56146539]\n",
            " [-1.56594327  0.53916069]\n",
            " [-0.60850513 -1.56146539]\n",
            " [-1.24679722  1.58947373]\n",
            " [-1.56594327  1.58947373]\n",
            " [ 1.30637115  0.53916069]\n",
            " [ 1.30637115 -0.51115235]\n",
            " [ 0.9872251   0.53916069]\n",
            " [ 1.6255172   1.58947373]\n",
            " [-0.28935908  0.53916069]\n",
            " [ 0.34893301  0.01400417]\n",
            " [ 0.34893301  0.53916069]\n",
            " [-1.24679722  1.06431721]\n",
            " [ 0.66807906  1.06431721]\n",
            " [-0.28935908 -1.56146539]]\n"
          ],
          "name": "stdout"
        }
      ]
    },
    {
      "cell_type": "code",
      "metadata": {
        "colab": {
          "base_uri": "https://localhost:8080/"
        },
        "id": "0vwy58FRdcAV",
        "outputId": "b72bb51f-b06f-42d2-de94-8731c2430cac"
      },
      "source": [
        "from sklearn.naive_bayes import GaussianNB\n",
        "classifer = GaussianNB()\n",
        "classifer.fit(x_train,y_train)"
      ],
      "execution_count": 13,
      "outputs": [
        {
          "output_type": "execute_result",
          "data": {
            "text/plain": [
              "GaussianNB(priors=None, var_smoothing=1e-09)"
            ]
          },
          "metadata": {
            "tags": []
          },
          "execution_count": 13
        }
      ]
    },
    {
      "cell_type": "code",
      "metadata": {
        "id": "7xT_QfUOdfD2"
      },
      "source": [
        "y_pred = classifer.predict(x_test)"
      ],
      "execution_count": 14,
      "outputs": []
    },
    {
      "cell_type": "code",
      "metadata": {
        "colab": {
          "base_uri": "https://localhost:8080/"
        },
        "id": "TC0jJc95dhiu",
        "outputId": "8884d029-b06d-478b-b5ce-1bc34c260846"
      },
      "source": [
        "from sklearn.metrics import confusion_matrix\n",
        "cm = confusion_matrix(y_test,y_pred)\n",
        "print(cm)"
      ],
      "execution_count": 15,
      "outputs": [
        {
          "output_type": "stream",
          "text": [
            "[[ 3 10]\n",
            " [ 7  5]]\n"
          ],
          "name": "stdout"
        }
      ]
    },
    {
      "cell_type": "code",
      "metadata": {
        "colab": {
          "base_uri": "https://localhost:8080/",
          "height": 349
        },
        "id": "2_X9loOtds52",
        "outputId": "8f7ac1ef-8e89-4fce-eff7-5b94a40d908e"
      },
      "source": [
        "from matplotlib.colors import ListedColormap\n",
        "x_set, y_set = x_train, y_train\n",
        "x1, x2 = np.meshgrid(np.arange(start = x_set[:, 0].min()-1, stop = x_set[:, 0].max() + 1, step=0.01),\n",
        "                     np.arange(start = x_set[:, 1].min()-1, stop = x_set[:, 1].max() + 1, step=0.01))\n",
        "plt.contourf(x1,x2, classifer.predict(np.array([x1.ravel(), x2.ravel()]).T).reshape(x1.shape),\n",
        "             alpha = 0.75, cmap = ListedColormap(('blue', 'green')))\n",
        "plt.xlim(x1.min(), x1.max())\n",
        "plt.ylim(x2.min(), x2.max())\n",
        "for i, j in enumerate (np.unique(y_set)):\n",
        "  plt.scatter(x_set[y_set == j, 0], x_set[y_set == j, 1],\n",
        "              c = ListedColormap(('blue', 'green'))(i), label = j)\n",
        "plt.title('Klasifikasi Data dengan Naive Bayes (Data Training)')\n",
        "plt.xlabel('Umur')\n",
        "plt.ylabel('Hari')\n",
        "plt.legend()\n",
        "plt.show()"
      ],
      "execution_count": 18,
      "outputs": [
        {
          "output_type": "stream",
          "text": [
            "*c* argument looks like a single numeric RGB or RGBA sequence, which should be avoided as value-mapping will have precedence in case its length matches with *x* & *y*.  Please use the *color* keyword-argument or provide a 2-D array with a single row if you intend to specify the same RGB or RGBA value for all points.\n",
            "*c* argument looks like a single numeric RGB or RGBA sequence, which should be avoided as value-mapping will have precedence in case its length matches with *x* & *y*.  Please use the *color* keyword-argument or provide a 2-D array with a single row if you intend to specify the same RGB or RGBA value for all points.\n"
          ],
          "name": "stderr"
        },
        {
          "output_type": "display_data",
          "data": {
            "image/png": "[encoded data removed]",
            "text/plain": [
              "<Figure size 432x288 with 1 Axes>"
            ]
          },
          "metadata": {
            "tags": [],
            "needs_background": "light"
          }
        }
      ]
    },
    {
      "cell_type": "code",
      "metadata": {
        "colab": {
          "base_uri": "https://localhost:8080/",
          "height": 349
        },
        "id": "k2bOlCfjfSco",
        "outputId": "356c0e39-fe0a-4334-f501-af6eeb097cd5"
      },
      "source": [
        "\n",
        "from matplotlib.colors import ListedColormap\n",
        "x_set, y_set = x_test, y_test\n",
        "x1, x2 = np.meshgrid(np.arange(start = x_set[:, 0].min()-1, stop = x_set[:, 0].max() + 1, step=0.01),\n",
        "                     np.arange(start = x_set[:, 1].min()-1, stop = x_set[:, 1].max() + 1, step=0.01))\n",
        "plt.contourf(x1,x2, classifer.predict(np.array([x1.ravel(), x2.ravel()]).T).reshape(x1.shape),\n",
        "             alpha = 0.75, cmap = ListedColormap(('blue', 'green')))\n",
        "plt.xlim(x1.min(), x1.max())\n",
        "plt.ylim(x2.min(), x2.max())\n",
        "for i, j in enumerate (np.unique(y_set)):\n",
        "  plt.scatter(x_set[y_set == j, 0], x_set[y_set == j, 1],\n",
        "              c = ListedColormap(('blue', 'green'))(i), label = j)\n",
        "plt.title('Klasifikasi Data dengan Naive Bayes (Data Test)')\n",
        "plt.xlabel('Umur')\n",
        "plt.ylabel('Hari')\n",
        "plt.legend()\n",
        "plt.show()"
      ],
      "execution_count": 19,
      "outputs": [
        {
          "output_type": "stream",
          "text": [
            "*c* argument looks like a single numeric RGB or RGBA sequence, which should be avoided as value-mapping will have precedence in case its length matches with *x* & *y*.  Please use the *color* keyword-argument or provide a 2-D array with a single row if you intend to specify the same RGB or RGBA value for all points.\n",
            "*c* argument looks like a single numeric RGB or RGBA sequence, which should be avoided as value-mapping will have precedence in case its length matches with *x* & *y*.  Please use the *color* keyword-argument or provide a 2-D array with a single row if you intend to specify the same RGB or RGBA value for all points.\n"
          ],
          "name": "stderr"
        },
        {
          "output_type": "display_data",
          "data": {
            "image/png": "[encoded data removed]",
            "text/plain": [
              "<Figure size 432x288 with 1 Axes>"
            ]
          },
          "metadata": {
            "tags": [],
            "needs_background": "light"
          }
        }
      ]
    }
  ]
}