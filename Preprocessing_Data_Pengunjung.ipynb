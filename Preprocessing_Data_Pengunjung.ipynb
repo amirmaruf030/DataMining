{
  "nbformat": 4,
  "nbformat_minor": 0,
  "metadata": {
    "colab": {
      "name": "Preprocessing Data Pengunjung.ipynb",
      "provenance": [],
      "authorship_tag": "ABX9TyNnbhc4iKDf3jzhgzmpb/MB",
      "include_colab_link": true
    },
    "kernelspec": {
      "name": "python3",
      "display_name": "Python 3"
    },
    "language_info": {
      "name": "python"
    }
  },
  "cells": [
    {
      "cell_type": "markdown",
      "metadata": {
        "id": "view-in-github",
        "colab_type": "text"
      },
      "source": [
        "<a href=\"https://colab.research.google.com/github/amirmaruf030/DataMining/blob/main/Preprocessing_Data_Pengunjung.ipynb\" target=\"_parent\"><img src=\"https://colab.research.google.com/assets/colab-badge.svg\" alt=\"Open In Colab\"/></a>"
      ]
    },
    {
      "cell_type": "code",
      "metadata": {
        "id": "wSiiwohqQ0y2"
      },
      "source": [
        "import numpy as np\n",
        "import matplotlib.pyplot as plt\n",
        "import pandas as pd"
      ],
      "execution_count": 5,
      "outputs": []
    },
    {
      "cell_type": "code",
      "metadata": {
        "id": "4svwNneqRef1"
      },
      "source": [
        "dataset = pd.read_csv('Data_pengunjung.csv')\n",
        "x = dataset.iloc[:, :-1].values\n",
        "y = dataset.iloc[:, -1].values"
      ],
      "execution_count": 6,
      "outputs": []
    },
    {
      "cell_type": "code",
      "metadata": {
        "colab": {
          "base_uri": "https://localhost:8080/"
        },
        "id": "W90_bJC5Ro0l",
        "outputId": "eefa7048-9e6f-497c-d2f7-e3a8a0bafd5a"
      },
      "source": [
        "print(x)"
      ],
      "execution_count": 7,
      "outputs": [
        {
          "output_type": "stream",
          "text": [
            "[['man' 19.0]\n",
            " ['girls' 18.0]\n",
            " ['man' nan]\n",
            " ['girls' 19.0]\n",
            " ['man' 19.0]\n",
            " ['man' 20.0]\n",
            " ['man' nan]\n",
            " ['girls' 19.0]\n",
            " ['man' 18.0]\n",
            " ['man' 20.0]]\n"
          ],
          "name": "stdout"
        }
      ]
    },
    {
      "cell_type": "code",
      "metadata": {
        "colab": {
          "base_uri": "https://localhost:8080/"
        },
        "id": "CKn6EXX8R3Bk",
        "outputId": "a947b4e1-8619-41bd-880d-7d7af7b8e222"
      },
      "source": [
        "print(y)"
      ],
      "execution_count": 8,
      "outputs": [
        {
          "output_type": "stream",
          "text": [
            "['No' 'Yes' 'No' 'No' 'Yes' 'Yes' 'No' 'Yes' 'No' 'Yes']\n"
          ],
          "name": "stdout"
        }
      ]
    },
    {
      "cell_type": "code",
      "metadata": {
        "id": "Q_a9ZNm6R7R8"
      },
      "source": [
        "from sklearn.impute import SimpleImputer\n",
        "imputer = SimpleImputer(missing_values=np.nan, strategy='mean')\n",
        "imputer.fit(x[:, 1:2])\n",
        "x[:, 1:2] = imputer.transform(x[:, 1:2])"
      ],
      "execution_count": 9,
      "outputs": []
    },
    {
      "cell_type": "code",
      "metadata": {
        "colab": {
          "base_uri": "https://localhost:8080/"
        },
        "id": "MSm6rk_8TGym",
        "outputId": "2732ed7b-d53c-43e0-89b3-1604a0ca1917"
      },
      "source": [
        "print(x)"
      ],
      "execution_count": 10,
      "outputs": [
        {
          "output_type": "stream",
          "text": [
            "[['man' 19.0]\n",
            " ['girls' 18.0]\n",
            " ['man' 19.0]\n",
            " ['girls' 19.0]\n",
            " ['man' 19.0]\n",
            " ['man' 20.0]\n",
            " ['man' 19.0]\n",
            " ['girls' 19.0]\n",
            " ['man' 18.0]\n",
            " ['man' 20.0]]\n"
          ],
          "name": "stdout"
        }
      ]
    },
    {
      "cell_type": "code",
      "metadata": {
        "id": "PgNYPmIATeZN"
      },
      "source": [
        "from sklearn.compose import ColumnTransformer\n",
        "from sklearn.preprocessing import OneHotEncoder\n",
        "ct = ColumnTransformer(transformers=[('encoder', OneHotEncoder(), [0])], remainder='passthrough')\n",
        "x = np.array(ct.fit_transform(x))"
      ],
      "execution_count": 11,
      "outputs": []
    },
    {
      "cell_type": "code",
      "metadata": {
        "colab": {
          "base_uri": "https://localhost:8080/"
        },
        "id": "VZIF0X3CTnN8",
        "outputId": "f2825fab-44a9-4bc9-ee6b-17657576dc95"
      },
      "source": [
        "print(x)"
      ],
      "execution_count": 12,
      "outputs": [
        {
          "output_type": "stream",
          "text": [
            "[[0.0 1.0 19.0]\n",
            " [1.0 0.0 18.0]\n",
            " [0.0 1.0 19.0]\n",
            " [1.0 0.0 19.0]\n",
            " [0.0 1.0 19.0]\n",
            " [0.0 1.0 20.0]\n",
            " [0.0 1.0 19.0]\n",
            " [1.0 0.0 19.0]\n",
            " [0.0 1.0 18.0]\n",
            " [0.0 1.0 20.0]]\n"
          ],
          "name": "stdout"
        }
      ]
    },
    {
      "cell_type": "code",
      "metadata": {
        "id": "2v8WjhygTr6c"
      },
      "source": [
        "from sklearn.preprocessing import LabelEncoder\n",
        "le = LabelEncoder()\n",
        "y = le.fit_transform(y)"
      ],
      "execution_count": 13,
      "outputs": []
    },
    {
      "cell_type": "code",
      "metadata": {
        "colab": {
          "base_uri": "https://localhost:8080/"
        },
        "id": "VNMsozSFTwjl",
        "outputId": "64bf9d31-dff5-43b3-8ce2-12b372dbb185"
      },
      "source": [
        "print(y)"
      ],
      "execution_count": 14,
      "outputs": [
        {
          "output_type": "stream",
          "text": [
            "[0 1 0 0 1 1 0 1 0 1]\n"
          ],
          "name": "stdout"
        }
      ]
    },
    {
      "cell_type": "code",
      "metadata": {
        "id": "osmk31CdTzZk"
      },
      "source": [
        "from sklearn.model_selection import train_test_split\n",
        "x_train, x_test, y_train, y_test = train_test_split(x, y, test_size=0.2, random_state=1)"
      ],
      "execution_count": 15,
      "outputs": []
    },
    {
      "cell_type": "code",
      "metadata": {
        "colab": {
          "base_uri": "https://localhost:8080/"
        },
        "id": "keNy9RC1T5pE",
        "outputId": "8489ef54-704f-446b-a46f-cbcfdcb2c589"
      },
      "source": [
        "print(x_train)"
      ],
      "execution_count": 16,
      "outputs": [
        {
          "output_type": "stream",
          "text": [
            "[[0.0 1.0 19.0]\n",
            " [0.0 1.0 19.0]\n",
            " [0.0 1.0 19.0]\n",
            " [1.0 0.0 19.0]\n",
            " [1.0 0.0 18.0]\n",
            " [1.0 0.0 19.0]\n",
            " [0.0 1.0 18.0]\n",
            " [0.0 1.0 20.0]]\n"
          ],
          "name": "stdout"
        }
      ]
    },
    {
      "cell_type": "code",
      "metadata": {
        "colab": {
          "base_uri": "https://localhost:8080/"
        },
        "id": "Wa_KymVaT9RU",
        "outputId": "94d3ddd9-f39a-499f-cca4-f48f5382ed14"
      },
      "source": [
        "print(x_test)"
      ],
      "execution_count": 17,
      "outputs": [
        {
          "output_type": "stream",
          "text": [
            "[[0.0 1.0 19.0]\n",
            " [0.0 1.0 20.0]]\n"
          ],
          "name": "stdout"
        }
      ]
    },
    {
      "cell_type": "code",
      "metadata": {
        "colab": {
          "base_uri": "https://localhost:8080/"
        },
        "id": "soFOxuhfUB58",
        "outputId": "4d7a593e-cb80-40f1-a230-b44d4342dcec"
      },
      "source": [
        "print(y_train)"
      ],
      "execution_count": 18,
      "outputs": [
        {
          "output_type": "stream",
          "text": [
            "[0 1 0 0 1 1 0 1]\n"
          ],
          "name": "stdout"
        }
      ]
    },
    {
      "cell_type": "code",
      "metadata": {
        "colab": {
          "base_uri": "https://localhost:8080/"
        },
        "id": "T2d5D9V3UEps",
        "outputId": "324348af-7c65-4c19-fbb9-6508feb5e7b6"
      },
      "source": [
        "print(y_test)"
      ],
      "execution_count": 19,
      "outputs": [
        {
          "output_type": "stream",
          "text": [
            "[0 1]\n"
          ],
          "name": "stdout"
        }
      ]
    },
    {
      "cell_type": "code",
      "metadata": {
        "id": "g-BM7-4dUH4V"
      },
      "source": [
        "from sklearn.preprocessing import StandardScaler\n",
        "sc = StandardScaler()\n",
        "x_train[:, 2:] = sc.fit_transform(x_train[:, 2:])\n",
        "x_test[:, 2:] = sc.transform(x_test[:, 2:])"
      ],
      "execution_count": 20,
      "outputs": []
    },
    {
      "cell_type": "code",
      "metadata": {
        "colab": {
          "base_uri": "https://localhost:8080/"
        },
        "id": "pp2KIAJjUPe8",
        "outputId": "145b046a-a679-40c8-e38a-7f171f22a140"
      },
      "source": [
        "print(x_train)"
      ],
      "execution_count": 21,
      "outputs": [
        {
          "output_type": "stream",
          "text": [
            "[[0.0 1.0 0.20851441405707477]\n",
            " [0.0 1.0 0.20851441405707477]\n",
            " [0.0 1.0 0.20851441405707477]\n",
            " [1.0 0.0 0.20851441405707477]\n",
            " [1.0 0.0 -1.4596008983995234]\n",
            " [1.0 0.0 0.20851441405707477]\n",
            " [0.0 1.0 -1.4596008983995234]\n",
            " [0.0 1.0 1.876629726513673]]\n"
          ],
          "name": "stdout"
        }
      ]
    },
    {
      "cell_type": "code",
      "metadata": {
        "colab": {
          "base_uri": "https://localhost:8080/"
        },
        "id": "XFigxwJdUV3t",
        "outputId": "b99fca29-e84b-4bac-d439-15c595b0f5e6"
      },
      "source": [
        "print(x_test)"
      ],
      "execution_count": 22,
      "outputs": [
        {
          "output_type": "stream",
          "text": [
            "[[0.0 1.0 0.20851441405707477]\n",
            " [0.0 1.0 1.876629726513673]]\n"
          ],
          "name": "stdout"
        }
      ]
    }
  ]
}